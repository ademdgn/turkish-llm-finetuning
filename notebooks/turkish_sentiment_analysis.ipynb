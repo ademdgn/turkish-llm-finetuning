{
 "cells": [
  {
   "cell_type": "markdown",
   "metadata": {},
   "source": [
    "# 🇹🇷 Turkish Sentiment Analysis - Model Analysis\n",
    "\n",
    "Bu notebook, eğitilmiş BERT modelinin kapsamlı analizini içerir."
   ]
  },
  {
   "cell_type": "code",
   "execution_count": 1,
   "metadata": {},
   "outputs": [
    {
     "name": "stdout",
     "output_type": "stream",
     "text": [
      "✅ Kütüphaneler yüklendi\n"
     ]
    }
   ],
   "source": [
    "# Gerekli kütüphaneleri import et\n",
    "import pandas as pd\n",
    "import numpy as np\n",
    "import matplotlib.pyplot as plt\n",
    "import seaborn as sns\n",
    "import json\n",
    "from pathlib import Path\n",
    "\n",
    "# Uyarıları gizle\n",
    "import warnings\n",
    "warnings.filterwarnings('ignore')\n",
    "\n",
    "# Plot ayarları\n",
    "plt.style.use('default')\n",
    "sns.set_palette(\"husl\")\n",
    "plt.rcParams['figure.figsize'] = (12, 8)\n",
    "plt.rcParams['font.size'] = 12\n",
    "\n",
    "print(\"✅ Kütüphaneler yüklendi\")"
   ]
  },
  {
   "cell_type": "markdown",
   "metadata": {},
   "source": [
    "## 📊 Model Sonuçlarını Yükle"
   ]
  },
  {
   "cell_type": "code",
   "execution_count": 2,
   "metadata": {},
   "outputs": [
    {
     "name": "stdout",
     "output_type": "stream",
     "text": [
      "✅ Evaluation sonuçları yüklendi\n",
      "📊 Model Performansı:\n",
      "  🎯 Accuracy: 0.9675\n",
      "  📈 F1-Score: 0.9668\n",
      "  🔍 Precision: 0.9668\n",
      "  🎪 Recall: 0.9675\n"
     ]
    }
   ],
   "source": [
    "# Evaluation sonuçlarını yükle\n",
    "try:\n",
    "    with open('../results/quick_evaluation_results.json', 'r', encoding='utf-8') as f:\n",
    "        results = json.load(f)\n",
    "    print(\"✅ Evaluation sonuçları yüklendi\")\n",
    "    \n",
    "    print(f\"📊 Model Performansı:\")\n",
    "    print(f\"  🎯 Accuracy: {results['accuracy']:.4f}\")\n",
    "    print(f\"  📈 F1-Score: {results['f1_weighted']:.4f}\")\n",
    "    print(f\"  🔍 Precision: {results['precision']:.4f}\")\n",
    "    print(f\"  🎪 Recall: {results['recall']:.4f}\")\n",
    "    \n",
    "except FileNotFoundError:\n",
    "    print(\"❌ Evaluation sonuçları bulunamadı\")\n",
    "    print(\"💡 Önce şunu çalıştırın: python quick_evaluation.py\")"
   ]
  },
  {
   "cell_type": "markdown",
   "metadata": {},
   "source": [
    "## 📈 Performans Grafiği"
   ]
  },
  {
   "cell_type": "code",
   "execution_count": 4,
   "metadata": {},
   "outputs": [
    {
     "data": {
      "image/png": "[encoded data removed]",
      "text/plain": [
       "<Figure size 1000x600 with 1 Axes>"
      ]
     },
     "metadata": {},
     "output_type": "display_data"
    }
   ],
   "source": [
    "# Performans karşılaştırması\n",
    "if 'results' in locals():\n",
    "    metrics_data = {\n",
    "        'Metric': ['Accuracy', 'F1-Score', 'Precision', 'Recall'],\n",
    "        'Score': [\n",
    "            results['accuracy'],\n",
    "            results['f1_weighted'],\n",
    "            results['precision'],\n",
    "            results['recall']\n",
    "        ],\n",
    "        'Target': [0.95, 0.94, 0.93, 0.93]\n",
    "    }\n",
    "    \n",
    "    df_metrics = pd.DataFrame(metrics_data)\n",
    "    \n",
    "    # Bar plot\n",
    "    fig, ax = plt.subplots(figsize=(10, 6))\n",
    "    x = np.arange(len(df_metrics['Metric']))\n",
    "    width = 0.35\n",
    "    \n",
    "    bars1 = ax.bar(x - width/2, df_metrics['Score'], width, label='Mevcut Model', alpha=0.8)\n",
    "    bars2 = ax.bar(x + width/2, df_metrics['Target'], width, label='Hedef', alpha=0.8)\n",
    "    \n",
    "    ax.set_xlabel('Metrikler')\n",
    "    ax.set_ylabel('Skor')\n",
    "    ax.set_title('Model Performans Karşılaştırması')\n",
    "    ax.set_xticks(x)\n",
    "    ax.set_xticklabels(df_metrics['Metric'])\n",
    "    ax.legend()\n",
    "    ax.set_ylim(0, 1)\n",
    "    \n",
    "    # Değerleri göster\n",
    "    for bar, value in zip(bars1, df_metrics['Score']):\n",
    "        height = bar.get_height()\n",
    "        ax.annotate(f'{value:.3f}',\n",
    "                   xy=(bar.get_x() + bar.get_width() / 2, height),\n",
    "                   xytext=(0, 3),\n",
    "                   textcoords=\"offset points\",\n",
    "                   ha='center', va='bottom')\n",
    "    \n",
    "    plt.tight_layout()\n",
    "    plt.show()"
   ]
  },
  {
   "cell_type": "markdown",
   "metadata": {},
   "source": [
    "## 🎯 Model Test Örnekleri"
   ]
  },
  {
   "cell_type": "code",
   "execution_count": 7,
   "metadata": {},
   "outputs": [
    {
     "name": "stderr",
     "output_type": "stream",
     "text": [
      "Device set to use cuda:0\n"
     ]
    },
    {
     "name": "stdout",
     "output_type": "stream",
     "text": [
      "🧪 Model Test Örnekleri:\n",
      "==================================================\n",
      "❌ Model yüklenemedi: list indices must be integers or slices, not str\n",
      "💡 Model eğitimi tamamlandığından emin olun\n"
     ]
    }
   ],
   "source": [
    "# Model test örnekleri\n",
    "try:\n",
    "    from transformers import pipeline\n",
    "    \n",
    "    # Pipeline oluştur\n",
    "    classifier = pipeline(\n",
    "        \"text-classification\",\n",
    "        model=\"../models/final\",\n",
    "        top_k=None\n",
    "    )\n",
    "    \n",
    "    # Test örnekleri\n",
    "    test_examples = [\n",
    "        \"Bu film gerçekten harika, çok beğendim!\",\n",
    "        \"Berbat bir deneyimdi, hiç memnun kalmadım.\",\n",
    "        \"Fena değil, ortalama bir ürün.\",\n",
    "        \"Bu proje çok başarılı oldu!\"\n",
    "    ]\n",
    "    \n",
    "    print(\"🧪 Model Test Örnekleri:\")\n",
    "    print(\"=\" * 50)\n",
    "    \n",
    "    emoji_map = {'NEGATIVE': '😞', 'NEUTRAL': '😐', 'POSITIVE': '😊'}\n",
    "    \n",
    "    for i, text in enumerate(test_examples, 1):\n",
    "        result = classifier(text)\n",
    "        best_pred = max(result, key=lambda x: x['score'])\n",
    "        \n",
    "        # Label formatını düzelt\n",
    "        if best_pred['label'].startswith('LABEL_'):\n",
    "            label_names = ['NEGATIVE', 'NEUTRAL', 'POSITIVE']\n",
    "            label_idx = int(best_pred['label'].split('_')[1])\n",
    "            predicted_label = label_names[label_idx]\n",
    "        else:\n",
    "            predicted_label = best_pred['label']\n",
    "        \n",
    "        emoji = emoji_map.get(predicted_label, '❓')\n",
    "        \n",
    "        print(f\"{i}. Text: {text}\")\n",
    "        print(f\"   {emoji} {predicted_label} (güven: {best_pred['score']:.3f})\")\n",
    "        print()\n",
    "        \n",
    "except Exception as e:\n",
    "    print(f\"❌ Model yüklenemedi: {e}\")\n",
    "    print(\"💡 Model eğitimi tamamlandığından emin olun\")"
   ]
  },
  {
   "cell_type": "markdown",
   "metadata": {},
   "source": [
    "## 📋 Proje Özeti"
   ]
  },
  {
   "cell_type": "code",
   "execution_count": 6,
   "metadata": {},
   "outputs": [
    {
     "name": "stdout",
     "output_type": "stream",
     "text": [
      "🎯 TÜRKÇE SENTIMENT ANALYSIS PROJESİ\n",
      "==================================================\n",
      "📊 Final Sonuçlar:\n",
      "  • Accuracy: 96.8%\n",
      "  • F1-Score: 96.7%\n",
      "  • Test samples: 2000\n",
      "  • Avg confidence: 99.1%\n",
      "\n",
      "🏆 Genel Performans: 🟢 Mükemmel\n",
      "\n",
      "💪 Proje Özellikleri:\n",
      "  ✨ BERT fine-tuning (dbmdz/bert-base-turkish-cased)\n",
      "  ✨ 440k+ training samples\n",
      "  ✨ GPU optimization (RTX 3050)\n",
      "  ✨ WandB experiment tracking\n",
      "  ✨ Production-ready Gradio demo\n",
      "  ✨ Comprehensive evaluation\n",
      "\n",
      "🚀 Demo Komutları:\n",
      "  🌐 Gradio Demo: python demos/gradio_demo.py\n",
      "  📊 Quick Eval: python quick_evaluation.py\n",
      "  🔮 Inference: python src/inference.py --text 'Test metni'\n",
      "\n",
      "✅ PROJE BAŞARIYLA TAMAMLANDI!\n"
     ]
    }
   ],
   "source": [
    "# Proje özeti\n",
    "print(\"🎯 TÜRKÇE SENTIMENT ANALYSIS PROJESİ\")\n",
    "print(\"=\" * 50)\n",
    "\n",
    "if 'results' in locals():\n",
    "    print(f\"📊 Final Sonuçlar:\")\n",
    "    print(f\"  • Accuracy: {results['accuracy']:.1%}\")\n",
    "    print(f\"  • F1-Score: {results['f1_weighted']:.1%}\")\n",
    "    print(f\"  • Test samples: {results['sample_size']}\")\n",
    "    print(f\"  • Avg confidence: {results['avg_confidence']:.1%}\")\n",
    "    \n",
    "    performance_status = \"🟢 Mükemmel\" if results['accuracy'] > 0.9 else \"🟡 İyi\" if results['accuracy'] > 0.8 else \"🔴 Geliştirilmeli\"\n",
    "    print(f\"\\n🏆 Genel Performans: {performance_status}\")\n",
    "\n",
    "print(f\"\\n💪 Proje Özellikleri:\")\n",
    "print(f\"  ✨ BERT fine-tuning (dbmdz/bert-base-turkish-cased)\")\n",
    "print(f\"  ✨ 440k+ training samples\")\n",
    "print(f\"  ✨ GPU optimization (RTX 3050)\")\n",
    "print(f\"  ✨ WandB experiment tracking\")\n",
    "print(f\"  ✨ Production-ready Gradio demo\")\n",
    "print(f\"  ✨ Comprehensive evaluation\")\n",
    "\n",
    "print(f\"\\n🚀 Demo Komutları:\")\n",
    "print(f\"  🌐 Gradio Demo: python demos/gradio_demo.py\")\n",
    "print(f\"  📊 Quick Eval: python quick_evaluation.py\")\n",
    "print(f\"  🔮 Inference: python src/inference.py --text 'Test metni'\")\n",
    "\n",
    "print(f\"\\n✅ PROJE BAŞARIYLA TAMAMLANDI!\")"
   ]
  }
 ],
 "metadata": {
  "kernelspec": {
   "display_name": "Python 3",
   "language": "python",
   "name": "python3"
  },
  "language_info": {
   "codemirror_mode": {
    "name": "ipython",
    "version": 3
   },
   "file_extension": ".py",
   "mimetype": "text/x-python",
   "name": "python",
   "nbconvert_exporter": "python",
   "pygments_lexer": "ipython3",
   "version": "3.12.8"
  }
 },
 "nbformat": 4,
 "nbformat_minor": 4
}
